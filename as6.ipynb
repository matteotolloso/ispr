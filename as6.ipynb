{
 "cells": [
  {
   "cell_type": "code",
   "execution_count": 176,
   "metadata": {},
   "outputs": [],
   "source": [
    "import numpy as np\n",
    "import math\n",
    "import latexify"
   ]
  },
  {
   "cell_type": "code",
   "execution_count": 177,
   "metadata": {},
   "outputs": [],
   "source": [
    "KERNEL_SIZE = 7\n",
    "SIGMA = 15"
   ]
  },
  {
   "cell_type": "code",
   "execution_count": 178,
   "metadata": {},
   "outputs": [
    {
     "data": {
      "text/latex": [
       "$$ \\displaystyle \\mathrm{LoG}(x, y, {\\sigma}) = \\frac{-{1}}{np.pi {\\sigma}^{{4}}} \\left( {1} - \\frac{x^{{2}} + y^{{2}}}{{2} {\\sigma}^{{2}}} \\right) \\exp{\\left({\\frac{-\\left( x^{{2}} + y^{{2}} \\right)}{{2} {\\sigma}^{{2}}}}\\right)} $$"
      ],
      "text/plain": [
       "<latexify.frontend.LatexifiedFunction at 0x7f3d638d19d0>"
      ]
     },
     "execution_count": 178,
     "metadata": {},
     "output_type": "execute_result"
    }
   ],
   "source": [
    "@latexify.function(use_math_symbols=True)\n",
    "def LoG(x, y, sigma):\n",
    "    return ((- 1 / (np.pi * sigma**4) ) * (1 - (x**2 + y**2) / (2 * sigma**2) ) ) * np.exp(- (x**2 + y**2) / (2 * sigma**2))\n",
    "    \n",
    "def get_kernel(sigma : float, size : int) -> np.array:\n",
    "    \n",
    "    ker = np.empty((size, size), dtype=float)\n",
    "    center_cell = size//2\n",
    "    \n",
    "    for ((x, y) , _) in np.ndenumerate(ker):\n",
    "        ker[x , y] = LoG(x - center_cell , y - center_cell , sigma)\n",
    "    \n",
    "    return ker\n",
    "\n",
    "LoG"
   ]
  },
  {
   "cell_type": "code",
   "execution_count": 179,
   "metadata": {},
   "outputs": [
    {
     "data": {
      "text/plain": [
       "array([[-5.79941977e-06, -5.93208997e-06, -6.01276548e-06,\n",
       "        -6.03983782e-06, -6.01276548e-06, -5.93208997e-06,\n",
       "        -5.79941977e-06],\n",
       "       [-5.93208997e-06, -6.06700085e-06, -6.14903683e-06,\n",
       "        -6.17656535e-06, -6.14903683e-06, -6.06700085e-06,\n",
       "        -5.93208997e-06],\n",
       "       [-6.01276548e-06, -6.14903683e-06, -6.23189882e-06,\n",
       "        -6.25970432e-06, -6.23189882e-06, -6.14903683e-06,\n",
       "        -6.01276548e-06],\n",
       "       [-6.03983782e-06, -6.17656535e-06, -6.25970432e-06,\n",
       "        -6.28760269e-06, -6.25970432e-06, -6.17656535e-06,\n",
       "        -6.03983782e-06],\n",
       "       [-6.01276548e-06, -6.14903683e-06, -6.23189882e-06,\n",
       "        -6.25970432e-06, -6.23189882e-06, -6.14903683e-06,\n",
       "        -6.01276548e-06],\n",
       "       [-5.93208997e-06, -6.06700085e-06, -6.14903683e-06,\n",
       "        -6.17656535e-06, -6.14903683e-06, -6.06700085e-06,\n",
       "        -5.93208997e-06],\n",
       "       [-5.79941977e-06, -5.93208997e-06, -6.01276548e-06,\n",
       "        -6.03983782e-06, -6.01276548e-06, -5.93208997e-06,\n",
       "        -5.79941977e-06]])"
      ]
     },
     "execution_count": 179,
     "metadata": {},
     "output_type": "execute_result"
    }
   ],
   "source": [
    "ker = get_kernel(SIGMA, KERNEL_SIZE)\n",
    "ker"
   ]
  },
  {
   "cell_type": "code",
   "execution_count": 180,
   "metadata": {},
   "outputs": [
    {
     "data": {
      "text/plain": [
       "True"
      ]
     },
     "execution_count": 180,
     "metadata": {},
     "output_type": "execute_result"
    }
   ],
   "source": [
    "import cv2\n",
    "  \n",
    "image = cv2.imread('OIP.jpeg')\n",
    "\n",
    "image = cv2.cvtColor(image, cv2.COLOR_RGB2GRAY)\n",
    "  \n",
    "cv2.imwrite(\"gray.jpeg\", image)"
   ]
  },
  {
   "cell_type": "code",
   "execution_count": 181,
   "metadata": {},
   "outputs": [
    {
     "name": "stdout",
     "output_type": "stream",
     "text": [
      "296 474\n"
     ]
    },
    {
     "data": {
      "text/plain": [
       "(302, 480)"
      ]
     },
     "execution_count": 181,
     "metadata": {},
     "output_type": "execute_result"
    }
   ],
   "source": [
    "original_rows, original_cols = image.shape\n",
    "print(original_rows, original_cols)\n",
    "\n",
    "padding = KERNEL_SIZE//2\n",
    "\n",
    "top_left = np.zeros(shape=(padding, padding))\n",
    "top_center = np.zeros(shape=(padding, original_cols))\n",
    "top_right = np.zeros(shape=(padding, padding))\n",
    "left = np.zeros(shape=(original_rows, padding))\n",
    "right= np.zeros(shape=(original_rows, padding))\n",
    "bottom_left = np.zeros(shape=(padding, padding))\n",
    "bottom_center=np.zeros(shape=(padding, original_cols))\n",
    "bottom_right=np.zeros(shape=(padding, padding))\n",
    "\n",
    "padded_image =np.block([[top_left,      top_center,     top_right], \n",
    "                        [left,          image,          right],\n",
    "                        [bottom_left,   bottom_center,  bottom_right]]\n",
    ")\n",
    "\n",
    "padded_image.shape"
   ]
  },
  {
   "cell_type": "code",
   "execution_count": 182,
   "metadata": {},
   "outputs": [],
   "source": [
    "convolved_image = np.zeros(shape=image.shape)"
   ]
  },
  {
   "cell_type": "code",
   "execution_count": 183,
   "metadata": {},
   "outputs": [],
   "source": [
    "for i in range(convolved_image.shape[0]):\n",
    "    for j in range(convolved_image.shape[1]):\n",
    "        \n",
    "        convolved_image[i , j] = np.sum(np.multiply(\n",
    "            padded_image[i : i + padding*2 + 1 , j : j + padding*2 + 1 ],\n",
    "            ker \n",
    "        ))\n",
    "\n",
    "convolved_image = np.interp(\n",
    "    convolved_image, \n",
    "    (convolved_image.min(), convolved_image.max()),\n",
    "    (1, 254)\n",
    ")"
   ]
  },
  {
   "cell_type": "code",
   "execution_count": 184,
   "metadata": {},
   "outputs": [
    {
     "data": {
      "text/plain": [
       "array([[233.52847678, 228.20891508, 223.11744705, ..., 173.83949584,\n",
       "        187.79238809, 202.36841651],\n",
       "       [228.58640291, 221.85993069, 215.57159387, ..., 152.146296  ,\n",
       "        169.63298797, 187.67009911],\n",
       "       [220.26779573, 212.64365536, 205.19674959, ..., 131.91211328,\n",
       "        152.48454806, 173.38700315],\n",
       "       ...,\n",
       "       [252.93683592, 252.46544468, 252.02460295, ..., 147.96575664,\n",
       "        165.66094251, 183.47998792],\n",
       "       [253.34219752, 253.13367698, 252.80546211, ..., 156.07658499,\n",
       "        172.4205743 , 188.97378904],\n",
       "       [253.79536563, 253.69968768, 253.44059214, ..., 176.49638442,\n",
       "        189.15896035, 202.01626158]])"
      ]
     },
     "execution_count": 184,
     "metadata": {},
     "output_type": "execute_result"
    }
   ],
   "source": [
    "convolved_image"
   ]
  },
  {
   "cell_type": "code",
   "execution_count": 185,
   "metadata": {},
   "outputs": [
    {
     "data": {
      "text/plain": [
       "True"
      ]
     },
     "execution_count": 185,
     "metadata": {},
     "output_type": "execute_result"
    }
   ],
   "source": [
    "cv2.imwrite(\"out.jpeg\", convolved_image)"
   ]
  },
  {
   "cell_type": "code",
   "execution_count": 186,
   "metadata": {},
   "outputs": [
    {
     "name": "stdout",
     "output_type": "stream",
     "text": [
      "21\n",
      "(296, 474)\n",
      "44\n"
     ]
    }
   ],
   "source": [
    "radius = int (np.sqrt(2) * SIGMA)\n",
    "print(radius)\n",
    "\n",
    "rows, columns = image.shape\n",
    "print(image.shape)\n",
    "\n",
    "local_maxima = []\n",
    "\n",
    "\n",
    "\n",
    "for i in range(radius, rows - radius): # check \n",
    "    for j in range(radius, columns - radius):\n",
    "        if image[i, j] == np.amax(image[i - radius : i + radius, j - radius : j + radius ] ):\n",
    "            local_maxima.append( (i,j))\n",
    "\n",
    "\n",
    "print(len(local_maxima))"
   ]
  },
  {
   "cell_type": "code",
   "execution_count": 187,
   "metadata": {},
   "outputs": [
    {
     "data": {
      "text/plain": [
       "[(243, 448),\n",
       " (108, 445),\n",
       " (184, 441),\n",
       " (34, 433),\n",
       " (103, 414),\n",
       " (199, 412),\n",
       " (60, 409),\n",
       " (199, 404),\n",
       " (136, 402),\n",
       " (164, 383),\n",
       " (94, 363),\n",
       " (236, 360),\n",
       " (52, 356),\n",
       " (163, 351),\n",
       " (216, 332),\n",
       " (160, 305),\n",
       " (207, 293),\n",
       " (90, 284),\n",
       " (60, 271),\n",
       " (64, 271),\n",
       " (219, 263),\n",
       " (165, 236),\n",
       " (167, 235),\n",
       " (229, 210),\n",
       " (230, 210),\n",
       " (81, 208),\n",
       " (274, 190),\n",
       " (130, 180),\n",
       " (174, 176),\n",
       " (212, 158),\n",
       " (173, 146),\n",
       " (118, 135),\n",
       " (33, 130),\n",
       " (210, 112),\n",
       " (80, 103),\n",
       " (118, 89),\n",
       " (143, 89),\n",
       " (269, 86),\n",
       " (56, 79),\n",
       " (186, 77),\n",
       " (78, 74),\n",
       " (32, 64),\n",
       " (128, 47),\n",
       " (208, 40)]"
      ]
     },
     "execution_count": 187,
     "metadata": {},
     "output_type": "execute_result"
    }
   ],
   "source": [
    "local_maxima.sort(key=lambda x: x[1], reverse=True)\n",
    "local_maxima"
   ]
  },
  {
   "cell_type": "code",
   "execution_count": 188,
   "metadata": {},
   "outputs": [
    {
     "data": {
      "text/plain": [
       "True"
      ]
     },
     "execution_count": 188,
     "metadata": {},
     "output_type": "execute_result"
    }
   ],
   "source": [
    "#rgb_image = cv2.imread(\"OIP.jpeg\")\n",
    "\n",
    "for (i, j) in local_maxima: \n",
    "    cv2.circle(convolved_image, (i, j), radius, (255, 0, 0), thickness=1, lineType=2)\n",
    "\n",
    "cv2.imwrite(\"circled.jpeg\", convolved_image)\n"
   ]
  }
 ],
 "metadata": {
  "kernelspec": {
   "display_name": "ispr",
   "language": "python",
   "name": "python3"
  },
  "language_info": {
   "codemirror_mode": {
    "name": "ipython",
    "version": 3
   },
   "file_extension": ".py",
   "mimetype": "text/x-python",
   "name": "python",
   "nbconvert_exporter": "python",
   "pygments_lexer": "ipython3",
   "version": "3.9.16"
  },
  "orig_nbformat": 4
 },
 "nbformat": 4,
 "nbformat_minor": 2
}
