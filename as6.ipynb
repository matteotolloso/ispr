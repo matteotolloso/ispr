{
 "cells": [
  {
   "cell_type": "code",
   "execution_count": 49,
   "metadata": {},
   "outputs": [],
   "source": [
    "import numpy as np\n",
    "import math\n",
    "import latexify\n",
    "import blob_utils"
   ]
  },
  {
   "cell_type": "code",
   "execution_count": 50,
   "metadata": {},
   "outputs": [
    {
     "data": {
      "text/latex": [
       "$$ \\displaystyle \\mathrm{LoG}(x, y, {\\sigma}) = \\frac{-{1}}{np.pi {\\sigma}^{{4}}} \\left( {1} - \\frac{x^{{2}} + y^{{2}}}{{2} {\\sigma}^{{2}}} \\right) \\exp{\\left({\\frac{-\\left( x^{{2}} + y^{{2}} \\right)}{{2} {\\sigma}^{{2}}}}\\right)} $$"
      ],
      "text/plain": [
       "<latexify.frontend.LatexifiedFunction at 0x7f269b8a22e0>"
      ]
     },
     "execution_count": 50,
     "metadata": {},
     "output_type": "execute_result"
    }
   ],
   "source": [
    "@latexify.function(use_math_symbols=True)\n",
    "def LoG(x, y, sigma):\n",
    "    return ((- 1 / (np.pi * sigma**4) ) * (1 - (x**2 + y**2) / (2 * sigma**2) ) ) * np.exp(- (x**2 + y**2) / (2 * sigma**2))\n",
    "LoG"
   ]
  },
  {
   "cell_type": "code",
   "execution_count": 51,
   "metadata": {},
   "outputs": [],
   "source": [
    "KERNEL_SIZE = 51\n",
    "SIGMA =14\n",
    "PATH = \"easy.png\"\n",
    "kernel = blob_utils.get_kernel(fun=LoG, size=KERNEL_SIZE, sigma=SIGMA)"
   ]
  },
  {
   "cell_type": "code",
   "execution_count": 52,
   "metadata": {},
   "outputs": [
    {
     "data": {
      "text/plain": [
       "True"
      ]
     },
     "execution_count": 52,
     "metadata": {},
     "output_type": "execute_result"
    }
   ],
   "source": [
    "import cv2\n",
    "rgb_image = cv2.imread(PATH)\n",
    "gray_image = cv2.cvtColor(rgb_image, cv2.COLOR_BGR2GRAY) \n",
    "cv2.imwrite(\"grayscale_\"+PATH, gray_image)"
   ]
  },
  {
   "cell_type": "code",
   "execution_count": 53,
   "metadata": {},
   "outputs": [
    {
     "name": "stdout",
     "output_type": "stream",
     "text": [
      "(1040, 1388)\n",
      "(1040, 1388)\n"
     ]
    }
   ],
   "source": [
    "print(gray_image.shape)\n",
    "#padded_image = blob_utils.pad_image(image=image, blob_radius=KERNEL_SIZE//2)\n",
    "padded_image = gray_image\n",
    "print(padded_image.shape)"
   ]
  },
  {
   "cell_type": "code",
   "execution_count": 54,
   "metadata": {},
   "outputs": [
    {
     "data": {
      "text/plain": [
       "True"
      ]
     },
     "execution_count": 54,
     "metadata": {},
     "output_type": "execute_result"
    }
   ],
   "source": [
    "convolved_image = blob_utils.convolve_image(padded_image=padded_image, kernel=kernel)\n",
    "\n",
    "cv2.imwrite(\n",
    "    \"convolved_\"+PATH,\n",
    "    np.interp(\n",
    "        convolved_image, \n",
    "        (convolved_image.min(), convolved_image.max()),\n",
    "        (0, 255)\n",
    "    )\n",
    ")"
   ]
  },
  {
   "cell_type": "code",
   "execution_count": 55,
   "metadata": {},
   "outputs": [
    {
     "name": "stdout",
     "output_type": "stream",
     "text": [
      "406\n"
     ]
    }
   ],
   "source": [
    "blob_radius = int (np.sqrt(2) * SIGMA) + 1\n",
    "\n",
    "centers = []\n",
    "\n",
    "p = np.percentile(convolved_image, [5, 95])\n",
    "lower_treshold = p[0]\n",
    "upper_treshold = p[1]\n",
    "\n",
    "for i in range(convolved_image.shape[0]):\n",
    "    for j in range(convolved_image.shape[1]):\n",
    "        \n",
    "        local_minimum, local_maximum = blob_utils.strictly_local_min_max(convolved_image, center=(i, j), radius=blob_radius)\n",
    "        \n",
    "        if (convolved_image[i,j] < local_minimum) and (convolved_image[i, j] < lower_treshold):\n",
    "            centers.append( ( i + KERNEL_SIZE//2, j + KERNEL_SIZE//2, convolved_image[i][j], \"min\"))\n",
    "        if (convolved_image[i,j] > local_maximum) and (convolved_image[i, j] > upper_treshold):\n",
    "            centers.append( ( i+ KERNEL_SIZE//2, j+ KERNEL_SIZE//2, convolved_image[i][j], \"max\"))\n",
    "\n",
    "print(len(centers))\n"
   ]
  },
  {
   "cell_type": "code",
   "execution_count": 56,
   "metadata": {},
   "outputs": [
    {
     "data": {
      "text/plain": [
       "True"
      ]
     },
     "execution_count": 56,
     "metadata": {},
     "output_type": "execute_result"
    }
   ],
   "source": [
    "for (i, j , _, tipo) in centers:\n",
    "    if tipo==\"min\":\n",
    "        cv2.circle(rgb_image, (j, i), blob_radius, (0, 0, 255), thickness=1, lineType=2)\n",
    "    else:\n",
    "        cv2.circle(rgb_image, (j, i), blob_radius, (0, 255, 0), thickness=1, lineType=2)\n",
    "\n",
    "cv2.imwrite(\"blobs_\"+PATH, rgb_image)"
   ]
  }
 ],
 "metadata": {
  "kernelspec": {
   "display_name": "ispr",
   "language": "python",
   "name": "python3"
  },
  "language_info": {
   "codemirror_mode": {
    "name": "ipython",
    "version": 3
   },
   "file_extension": ".py",
   "mimetype": "text/x-python",
   "name": "python",
   "nbconvert_exporter": "python",
   "pygments_lexer": "ipython3",
   "version": "3.9.16"
  },
  "orig_nbformat": 4
 },
 "nbformat": 4,
 "nbformat_minor": 2
}
