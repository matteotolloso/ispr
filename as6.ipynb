{
 "cells": [
  {
   "cell_type": "code",
   "execution_count": 110,
   "metadata": {},
   "outputs": [],
   "source": [
    "import numpy as np\n",
    "import math\n",
    "import latexify"
   ]
  },
  {
   "cell_type": "code",
   "execution_count": 111,
   "metadata": {},
   "outputs": [],
   "source": [
    "KERNEL_SIZE = 7\n",
    "SIGMA = 15"
   ]
  },
  {
   "cell_type": "code",
   "execution_count": 112,
   "metadata": {},
   "outputs": [
    {
     "data": {
      "text/latex": [
       "$$ \\displaystyle \\mathrm{LoG}(x, y, {\\sigma}) = \\frac{-{1}}{np.pi {\\sigma}^{{4}}} \\left( {1} - \\frac{x^{{2}} + y^{{2}}}{{2} {\\sigma}^{{2}}} \\right) \\exp{\\left({\\frac{-\\left( x^{{2}} + y^{{2}} \\right)}{{2} {\\sigma}^{{2}}}}\\right)} $$"
      ],
      "text/plain": [
       "<latexify.frontend.LatexifiedFunction at 0x7f3d63874d90>"
      ]
     },
     "execution_count": 112,
     "metadata": {},
     "output_type": "execute_result"
    }
   ],
   "source": [
    "@latexify.function(use_math_symbols=True)\n",
    "def LoG(x, y, sigma):\n",
    "    return ((- 1 / (np.pi * sigma**4) ) * (1 - (x**2 + y**2) / (2 * sigma**2) ) ) * np.exp(- (x**2 + y**2) / (2 * sigma**2))\n",
    "    \n",
    "def get_LoG_kernel(sigma : float, size : int) -> np.array:\n",
    "    \n",
    "    ker = np.empty((size, size), dtype=float)\n",
    "    center_cell = size//2\n",
    "    \n",
    "    for ((x, y) , _) in np.ndenumerate(ker):\n",
    "        ker[x , y] = LoG(x - center_cell , y - center_cell , sigma)\n",
    "    \n",
    "    return ker\n",
    "\n",
    "LoG"
   ]
  },
  {
   "cell_type": "code",
   "execution_count": 113,
   "metadata": {},
   "outputs": [
    {
     "data": {
      "text/plain": [
       "array([[-5.79941977e-06, -5.93208997e-06, -6.01276548e-06,\n",
       "        -6.03983782e-06, -6.01276548e-06, -5.93208997e-06,\n",
       "        -5.79941977e-06],\n",
       "       [-5.93208997e-06, -6.06700085e-06, -6.14903683e-06,\n",
       "        -6.17656535e-06, -6.14903683e-06, -6.06700085e-06,\n",
       "        -5.93208997e-06],\n",
       "       [-6.01276548e-06, -6.14903683e-06, -6.23189882e-06,\n",
       "        -6.25970432e-06, -6.23189882e-06, -6.14903683e-06,\n",
       "        -6.01276548e-06],\n",
       "       [-6.03983782e-06, -6.17656535e-06, -6.25970432e-06,\n",
       "        -6.28760269e-06, -6.25970432e-06, -6.17656535e-06,\n",
       "        -6.03983782e-06],\n",
       "       [-6.01276548e-06, -6.14903683e-06, -6.23189882e-06,\n",
       "        -6.25970432e-06, -6.23189882e-06, -6.14903683e-06,\n",
       "        -6.01276548e-06],\n",
       "       [-5.93208997e-06, -6.06700085e-06, -6.14903683e-06,\n",
       "        -6.17656535e-06, -6.14903683e-06, -6.06700085e-06,\n",
       "        -5.93208997e-06],\n",
       "       [-5.79941977e-06, -5.93208997e-06, -6.01276548e-06,\n",
       "        -6.03983782e-06, -6.01276548e-06, -5.93208997e-06,\n",
       "        -5.79941977e-06]])"
      ]
     },
     "execution_count": 113,
     "metadata": {},
     "output_type": "execute_result"
    }
   ],
   "source": [
    "ker = get_LoG_kernel(SIGMA, KERNEL_SIZE)\n",
    "ker"
   ]
  },
  {
   "cell_type": "code",
   "execution_count": 114,
   "metadata": {},
   "outputs": [
    {
     "data": {
      "text/plain": [
       "True"
      ]
     },
     "execution_count": 114,
     "metadata": {},
     "output_type": "execute_result"
    }
   ],
   "source": [
    "import cv2\n",
    "  \n",
    "image = cv2.imread('OIP.jpeg')\n",
    "\n",
    "image = cv2.cvtColor(image, cv2.COLOR_RGB2GRAY)\n",
    "  \n",
    "cv2.imwrite(\"gray.jpeg\", image)"
   ]
  },
  {
   "cell_type": "code",
   "execution_count": 115,
   "metadata": {},
   "outputs": [
    {
     "name": "stdout",
     "output_type": "stream",
     "text": [
      "296 474\n"
     ]
    },
    {
     "data": {
      "text/plain": [
       "(302, 480)"
      ]
     },
     "execution_count": 115,
     "metadata": {},
     "output_type": "execute_result"
    }
   ],
   "source": [
    "original_rows, original_cols = image.shape\n",
    "print(original_rows, original_cols)\n",
    "\n",
    "padding = KERNEL_SIZE//2\n",
    "\n",
    "top_left = np.zeros(shape=(padding, padding))\n",
    "top_center = np.zeros(shape=(padding, original_cols))\n",
    "top_right = np.zeros(shape=(padding, padding))\n",
    "left = np.zeros(shape=(original_rows, padding))\n",
    "right= np.zeros(shape=(original_rows, padding))\n",
    "bottom_left = np.zeros(shape=(padding, padding))\n",
    "bottom_center=np.zeros(shape=(padding, original_cols))\n",
    "bottom_right=np.zeros(shape=(padding, padding))\n",
    "\n",
    "padded_image =np.block([[top_left,      top_center,     top_right], \n",
    "                        [left,          image,          right],\n",
    "                        [bottom_left,   bottom_center,  bottom_right]]\n",
    ")\n",
    "\n",
    "padded_image.shape"
   ]
  },
  {
   "cell_type": "code",
   "execution_count": 116,
   "metadata": {},
   "outputs": [],
   "source": [
    "convolved_image = np.zeros(shape=image.shape)"
   ]
  },
  {
   "cell_type": "code",
   "execution_count": 117,
   "metadata": {},
   "outputs": [],
   "source": [
    "for i in range(convolved_image.shape[0]):\n",
    "    for j in range(convolved_image.shape[1]):\n",
    "        \n",
    "        convolved_image[i , j] = np.sum(np.multiply(\n",
    "            padded_image[i : i + padding*2 + 1 , j : j + padding*2 + 1 ],\n",
    "            ker \n",
    "        ))\n",
    "\n",
    "convolved_image = np.interp(\n",
    "    convolved_image, \n",
    "    (convolved_image.min(), convolved_image.max()),\n",
    "    (0, 255)\n",
    ")"
   ]
  },
  {
   "cell_type": "code",
   "execution_count": 118,
   "metadata": {},
   "outputs": [
    {
     "data": {
      "text/plain": [
       "array([[234.36664655, 229.00503299, 223.8733162 , ..., 174.20581597,\n",
       "        188.26900776, 202.9602617 ],\n",
       "       [229.38550491, 222.605859  , 216.267812  , ..., 152.34112838,\n",
       "        169.96605507, 188.14575207],\n",
       "       [221.00113799, 213.31672773, 205.81095314, ..., 131.94699165,\n",
       "        152.68205436, 173.74974626],\n",
       "       ...,\n",
       "       [253.92843146, 253.45331381, 253.00898716, ..., 148.12754127,\n",
       "        165.96261004, 183.92251747],\n",
       "       [254.3369975 , 254.12682858, 253.79601912, ..., 156.30248684,\n",
       "        172.77567766, 189.45974785],\n",
       "       [254.79374797, 254.69731367, 254.43616994, ..., 176.88370762,\n",
       "        189.64638296, 202.60532293]])"
      ]
     },
     "execution_count": 118,
     "metadata": {},
     "output_type": "execute_result"
    }
   ],
   "source": [
    "convolved_image"
   ]
  },
  {
   "cell_type": "code",
   "execution_count": 119,
   "metadata": {},
   "outputs": [
    {
     "data": {
      "text/plain": [
       "True"
      ]
     },
     "execution_count": 119,
     "metadata": {},
     "output_type": "execute_result"
    }
   ],
   "source": [
    "cv2.imwrite(\"out.jpeg\", convolved_image)"
   ]
  },
  {
   "cell_type": "code",
   "execution_count": 120,
   "metadata": {},
   "outputs": [
    {
     "name": "stdout",
     "output_type": "stream",
     "text": [
      "21\n",
      "(296, 474)\n",
      "44\n"
     ]
    }
   ],
   "source": [
    "radius = int (np.sqrt(2) * SIGMA)\n",
    "print(radius)\n",
    "\n",
    "rows, columns = image.shape\n",
    "print(image.shape)\n",
    "\n",
    "local_maxima = []\n",
    "\n",
    "for i in range(radius, rows - radius): # check \n",
    "    for j in range(radius, columns - radius):\n",
    "        if image[i, j] == np.amax(image[i - radius : i + radius, j - radius : j + radius ] ):\n",
    "            local_maxima.append( (i,j))\n",
    "\n",
    "print(len(local_maxima))\n"
   ]
  },
  {
   "cell_type": "code",
   "execution_count": 121,
   "metadata": {},
   "outputs": [
    {
     "data": {
      "text/plain": [
       "True"
      ]
     },
     "execution_count": 121,
     "metadata": {},
     "output_type": "execute_result"
    }
   ],
   "source": [
    "rgb_image = cv2.imread(\"OIP.jpeg\")\n",
    "\n",
    "for i, j in local_maxima: \n",
    "    cv2.circle(rgb_image, (i, j), radius, (255, 0, 0), thickness=1, lineType=2, shift=0)\n",
    "\n",
    "cv2.imwrite(\"circled.jpeg\", rgb_image)\n"
   ]
  }
 ],
 "metadata": {
  "kernelspec": {
   "display_name": "ispr",
   "language": "python",
   "name": "python3"
  },
  "language_info": {
   "codemirror_mode": {
    "name": "ipython",
    "version": 3
   },
   "file_extension": ".py",
   "mimetype": "text/x-python",
   "name": "python",
   "nbconvert_exporter": "python",
   "pygments_lexer": "ipython3",
   "version": "3.9.16"
  },
  "orig_nbformat": 4
 },
 "nbformat": 4,
 "nbformat_minor": 2
}
