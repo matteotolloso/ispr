{
 "cells": [
  {
   "cell_type": "code",
   "execution_count": 2,
   "metadata": {},
   "outputs": [],
   "source": [
    "#load the dateset\n",
    "import pandas as pd\n",
    "\n",
    "#load the dataset, no header\n",
    "df = pd.read_csv('lercio_headlines.csv', header=None)\n",
    "df.head()\n",
    "\n",
    "# create a txt file with the headlines\n",
    "with open('lercio_headlines.txt', 'w') as f:\n",
    "    for line in df[0]:\n",
    "        f.write(line.lower() + '.\\n')"
   ]
  },
  {
   "cell_type": "code",
   "execution_count": 9,
   "metadata": {},
   "outputs": [
    {
     "name": "stdout",
     "output_type": "stream",
     "text": [
      "Using CUDA\n",
      "Training for 700 epochs...\n"
     ]
    },
    {
     "name": "stderr",
     "output_type": "stream",
     "text": [
      "  7%|▋         | 49/700 [00:45<10:09,  1.07it/s]"
     ]
    },
    {
     "name": "stdout",
     "output_type": "stream",
     "text": [
      "[0m 46s (50 7%) 2.9720]\n",
      "Whpscee dlioaaoleao isa gis n earoaachiitateuasltrillli teloicoilae eiclo nmi bnlsa 'pvalacisdvilndao  \n",
      "\n"
     ]
    },
    {
     "name": "stderr",
     "output_type": "stream",
     "text": [
      "  9%|▊         | 61/700 [00:57<10:02,  1.06it/s]\n",
      "Traceback (most recent call last):\n",
      "  File \"/home/matteo/ispr/midterm_3/./char-rnn-pytorch/train.py\", line 95, in <module>\n",
      "    loss = train(*random_training_set(args.chunk_len, args.batch_size))\n",
      "  File \"/home/matteo/ispr/midterm_3/./char-rnn-pytorch/train.py\", line 43, in random_training_set\n",
      "    inp[bi] = char_tensor(chunk[:-1])\n",
      "RuntimeError: The expanded size of the tensor (100) must match the existing size (99) at non-singleton dimension 0.  Target sizes: [100].  Tensor sizes: [99]\n"
     ]
    },
    {
     "data": {
      "text/plain": [
       "256"
      ]
     },
     "execution_count": 9,
     "metadata": {},
     "output_type": "execute_result"
    }
   ],
   "source": [
    "import os\n",
    "\n",
    "path = \"./lercio_headlines.txt\"\n",
    "\n",
    "options =\\\n",
    "\"--model            gru   \" +\\\n",
    "\"--n_epochs         700    \" +\\\n",
    "\"--print_every      50   \" +\\\n",
    "\"--hidden_size      32    \" +\\\n",
    "\"--n_layers         4     \" +\\\n",
    "\"--learning_rate    0.01  \" +\\\n",
    "\"--chunk_len        100   \" +\\\n",
    "\"--batch_size       1000   \" +\\\n",
    "\"--cuda                   \" \n",
    "\n",
    "command = f\"python ./char-rnn-pytorch/train.py {path} {options}\"\n",
    "\n",
    "\n",
    "os.system(command)"
   ]
  },
  {
   "cell_type": "code",
   "execution_count": 1,
   "metadata": {},
   "outputs": [
    {
     "name": "stdout",
     "output_type": "stream",
     "text": [
      " pppin      ib\n",
      "opn  ip oir p ppippp ip. ri\n",
      "g sp pi pipp iipi p pprn ippp ppip i p iippppppnp i kppkip\n"
     ]
    },
    {
     "data": {
      "text/plain": [
       "0"
      ]
     },
     "execution_count": 1,
     "metadata": {},
     "output_type": "execute_result"
    }
   ],
   "source": [
    "import os\n",
    "path = \"../lercio_headlines.pt\"\n",
    "\n",
    "options =\\\n",
    "'--prime_str   \" \"    ' +\\\n",
    "\"--predict_len    100    \" +\\\n",
    "\"--cuda               \" \n",
    "#\"--temperature    100     \" +\n",
    "\n",
    "\n",
    "command = f\"python ./char-rnn-pytorch/generate.py {path} {options}\"\n",
    "\n",
    "os.system(command)"
   ]
  }
 ],
 "metadata": {
  "kernelspec": {
   "display_name": "ispr",
   "language": "python",
   "name": "python3"
  },
  "language_info": {
   "codemirror_mode": {
    "name": "ipython",
    "version": 3
   },
   "file_extension": ".py",
   "mimetype": "text/x-python",
   "name": "python",
   "nbconvert_exporter": "python",
   "pygments_lexer": "ipython3",
   "version": "3.10.9"
  },
  "orig_nbformat": 4
 },
 "nbformat": 4,
 "nbformat_minor": 2
}
