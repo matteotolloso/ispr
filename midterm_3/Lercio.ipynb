{
 "cells": [
  {
   "cell_type": "code",
   "execution_count": 4,
   "metadata": {},
   "outputs": [],
   "source": [
    "#load the dateset\n",
    "import pandas as pd\n",
    "\n",
    "#load the dataset, no header\n",
    "df = pd.read_csv('lercio_headlines.csv', header=None)\n",
    "df.head()\n",
    "\n",
    "# create a txt file with the headlines\n",
    "with open('lercio_headlines.txt', 'w') as f:\n",
    "    for line in df[0]:\n",
    "        f.write(line.lower() + '.\\n')"
   ]
  },
  {
   "cell_type": "code",
   "execution_count": 8,
   "metadata": {},
   "outputs": [
    {
     "name": "stdout",
     "output_type": "stream",
     "text": [
      "Training for 100 epochs...\n"
     ]
    },
    {
     "name": "stderr",
     "output_type": "stream",
     "text": [
      "  0%|          | 0/100 [00:00<?, ?it/s]Killed\n"
     ]
    },
    {
     "data": {
      "text/plain": [
       "35072"
      ]
     },
     "execution_count": 8,
     "metadata": {},
     "output_type": "execute_result"
    }
   ],
   "source": [
    "import os\n",
    "\n",
    "path = \"./lercio_headlines.txt\"\n",
    "\n",
    "options =\\\n",
    "\"--model            gru   \" +\\\n",
    "\"--n_epochs         100    \" +\\\n",
    "\"--print_every      100   \" +\\\n",
    "\"--hidden_size      100    \" +\\\n",
    "\"--n_layers         10     \" +\\\n",
    "\"--learning_rate    0.01  \" +\\\n",
    "\"--chunk_len        200   \" +\\\n",
    "\"--batch_size       500   \" \n",
    "#\"--cuda                   \" \n",
    "\n",
    "command = f\"python ./char-rnn.pytorch/train.py {path} {options}\"\n",
    "\n",
    "\n",
    "os.system(command)"
   ]
  },
  {
   "cell_type": "code",
   "execution_count": 9,
   "metadata": {},
   "outputs": [
    {
     "name": "stdout",
     "output_type": "stream",
     "text": [
      "berlusconimm rctla  ar.i iaduila lieotlctsigc a n rrni ai i  momem iaelol,nr aaili a enl s aen dmlsraearu%erie\n"
     ]
    },
    {
     "data": {
      "text/plain": [
       "0"
      ]
     },
     "execution_count": 9,
     "metadata": {},
     "output_type": "execute_result"
    }
   ],
   "source": [
    "path = \"./lercio_headlines.pt\"\n",
    "\n",
    "options =\\\n",
    "'--prime_str   \"berlusconi\"    ' +\\\n",
    "\"--predict_len    100    \" \n",
    "#\"--temperature    100     \" +\\\n",
    "# \"--cuda               \" +\\\n",
    "\n",
    "\n",
    "command = f\"python ./char-rnn.pytorch/generate.py {path} {options}\"\n",
    "\n",
    "\n",
    "os.system(command)"
   ]
  }
 ],
 "metadata": {
  "kernelspec": {
   "display_name": "ispr",
   "language": "python",
   "name": "python3"
  },
  "language_info": {
   "codemirror_mode": {
    "name": "ipython",
    "version": 3
   },
   "file_extension": ".py",
   "mimetype": "text/x-python",
   "name": "python",
   "nbconvert_exporter": "python",
   "pygments_lexer": "ipython3",
   "version": "3.9.16"
  },
  "orig_nbformat": 4
 },
 "nbformat": 4,
 "nbformat_minor": 2
}
