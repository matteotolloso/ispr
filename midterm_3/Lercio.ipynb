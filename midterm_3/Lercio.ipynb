{
 "cells": [
  {
   "cell_type": "code",
   "execution_count": 1,
   "metadata": {},
   "outputs": [],
   "source": [
    "#load the dateset\n",
    "import pandas as pd\n",
    "\n",
    "#load the dataset, no header\n",
    "df = pd.read_csv('lercio_headlines.csv', header=None)\n",
    "df.head()\n",
    "\n",
    "# create a txt file with the headlines\n",
    "with open('lercio_headlines.txt', 'w') as f:\n",
    "    for line in df[0]:\n",
    "        f.write(line.lower() + '.\\n')"
   ]
  },
  {
   "attachments": {},
   "cell_type": "markdown",
   "metadata": {},
   "source": [
    "The lercio dataset is more or less 3 times smaller than the shakespeare dataset that is the baseline for the tests"
   ]
  },
  {
   "cell_type": "code",
   "execution_count": 4,
   "metadata": {},
   "outputs": [
    {
     "data": {
      "text/plain": [
       "70.49661225746843"
      ]
     },
     "execution_count": 4,
     "metadata": {},
     "output_type": "execute_result"
    }
   ],
   "source": [
    "#find the mean length of the headlines\n",
    "df[0].str.len().mean()"
   ]
  },
  {
   "cell_type": "code",
   "execution_count": 5,
   "metadata": {},
   "outputs": [
    {
     "name": "stderr",
     "output_type": "stream",
     "text": [
      "usage: train.py [-h] [--filename FILENAME] [--model MODEL]\n",
      "                [--n_epochs N_EPOCHS] [--print_every PRINT_EVERY]\n",
      "                [--hidden_size HIDDEN_SIZE] [--n_layers N_LAYERS]\n",
      "                [--learning_rate LEARNING_RATE] [--chunk_len CHUNK_LEN]\n",
      "                [--batch_size BATCH_SIZE] [--shuffle] [--cuda]\n",
      "train.py: error: unrecognized arguments: ./lercio_headlines_base.txt\n"
     ]
    },
    {
     "data": {
      "text/plain": [
       "512"
      ]
     },
     "execution_count": 5,
     "metadata": {},
     "output_type": "execute_result"
    }
   ],
   "source": [
    "import os\n",
    "\n",
    "path = \"./lercio_headlines_base.txt\"\n",
    "\n",
    "options =\\\n",
    "\"--model            gru   \" +\\\n",
    "\"--n_epochs         700    \" +\\\n",
    "\"--print_every      50   \" +\\\n",
    "\"--hidden_size      32    \" +\\\n",
    "\"--n_layers         4     \" +\\\n",
    "\"--learning_rate    0.01  \" +\\\n",
    "\"--chunk_len        100   \" +\\\n",
    "\"--batch_size       1000   \" +\\\n",
    "\"--cuda                   \" \n",
    "\n",
    "command = f\"python ./char-rnn-pytorch/train.py {path} {options}\"\n",
    "\n",
    "\n",
    "os.system(command)"
   ]
  },
  {
   "cell_type": "code",
   "execution_count": 6,
   "metadata": {},
   "outputs": [
    {
     "name": "stderr",
     "output_type": "stream",
     "text": [
      "/home/matteo/anaconda3/envs/ispr/lib/python3.10/site-packages/torch/serialization.py:888: SourceChangeWarning: source code of class 'torch.nn.modules.sparse.Embedding' has changed. you can retrieve the original source code by accessing the object's source attribute or set `torch.nn.Module.dump_patches = True` and use the patch tool to revert the changes.\n",
      "  warnings.warn(msg, SourceChangeWarning)\n",
      "/home/matteo/anaconda3/envs/ispr/lib/python3.10/site-packages/torch/serialization.py:888: SourceChangeWarning: source code of class 'torch.nn.modules.rnn.GRU' has changed. you can retrieve the original source code by accessing the object's source attribute or set `torch.nn.Module.dump_patches = True` and use the patch tool to revert the changes.\n",
      "  warnings.warn(msg, SourceChangeWarning)\n",
      "Traceback (most recent call last):\n",
      "  File \"/home/matteo/ispr/midterm_3/./char-rnn-pytorch/generate.py\", line 54, in <module>\n",
      "    decoder = torch.load(args.filename)\n",
      "  File \"/home/matteo/anaconda3/envs/ispr/lib/python3.10/site-packages/torch/serialization.py\", line 815, in load\n",
      "    return _legacy_load(opened_file, map_location, pickle_module, **pickle_load_args)\n",
      "  File \"/home/matteo/anaconda3/envs/ispr/lib/python3.10/site-packages/torch/serialization.py\", line 1043, in _legacy_load\n",
      "    result = unpickler.load()\n",
      "  File \"/home/matteo/anaconda3/envs/ispr/lib/python3.10/site-packages/torch/nn/modules/rnn.py\", line 325, in __setstate__\n",
      "    for w in self._flat_weights]\n",
      "  File \"/home/matteo/anaconda3/envs/ispr/lib/python3.10/site-packages/torch/nn/modules/module.py\", line 1614, in __getattr__\n",
      "    raise AttributeError(\"'{}' object has no attribute '{}'\".format(\n",
      "AttributeError: 'GRU' object has no attribute '_flat_weights'. Did you mean: '_all_weights'?\n"
     ]
    },
    {
     "data": {
      "text/plain": [
       "256"
      ]
     },
     "execution_count": 6,
     "metadata": {},
     "output_type": "execute_result"
    }
   ],
   "source": [
    "import os\n",
    "path = \"../lercio_headlines_base.pt\"\n",
    "\n",
    "options =\\\n",
    "'--prime_str   \" \"    ' +\\\n",
    "\"--predict_len    100    \" +\\\n",
    "\"--cuda               \" \n",
    "#\"--temperature    100     \" +\n",
    "\n",
    "\n",
    "command = f\"python ./char-rnn-pytorch/generate.py {path} {options}\"\n",
    "\n",
    "os.system(command)"
   ]
  }
 ],
 "metadata": {
  "kernelspec": {
   "display_name": "ispr",
   "language": "python",
   "name": "python3"
  },
  "language_info": {
   "codemirror_mode": {
    "name": "ipython",
    "version": 3
   },
   "file_extension": ".py",
   "mimetype": "text/x-python",
   "name": "python",
   "nbconvert_exporter": "python",
   "pygments_lexer": "ipython3",
   "version": "3.10.9"
  },
  "orig_nbformat": 4
 },
 "nbformat": 4,
 "nbformat_minor": 2
}
